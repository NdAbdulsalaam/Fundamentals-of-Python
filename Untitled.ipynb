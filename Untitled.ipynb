{
 "cells": [
  {
   "cell_type": "code",
   "execution_count": 1,
   "id": "942baf9b",
   "metadata": {},
   "outputs": [],
   "source": [
    "import math"
   ]
  },
  {
   "cell_type": "code",
   "execution_count": 2,
   "id": "0ffc8716",
   "metadata": {},
   "outputs": [],
   "source": [
    "# make it user interactive\n",
    "def quad_solver(a, b, c):\n",
    "  \"\"\"\n",
    "  Solves a quadratic equation ax^2 + bx + c = 0 and prints the solutions.\n",
    "\n",
    "  Args:\n",
    "      a: Coefficient of the x^2 term.\n",
    "      b: Coefficient of the x term.\n",
    "      c: Constant term.\n",
    "  \"\"\"\n",
    "#   print(a, b, c)\n",
    "  discriminant = b**2 - 4 * a * c\n",
    "\n",
    "  # Check for real or complex solutions based on the discriminant\n",
    "  if discriminant > 0:\n",
    "    # Real solutions\n",
    "    positive_root = (-b + math.sqrt(discriminant)) / (2 * a)\n",
    "    negative_root = (-b - math.sqrt(discriminant)) / (2 * a)\n",
    "    print(\"Answers:\")\n",
    "    print(f\"x1 = {positive_root:.4f}, x2 = {negative_root:.4f}\")  # Format output for better precision\n",
    "  elif discriminant == 0:\n",
    "    # Repeated real root\n",
    "    form = -b / (2 * a)\n",
    "    print(\"Answer:\")\n",
    "    print(f\"x = {form:.4f}\")  # Format output for better precision\n",
    "  else:\n",
    "    # Complex solutions\n",
    "    print(\"The equation has no real root. Check your input and try again.\")"
   ]
  },
  {
   "cell_type": "code",
   "execution_count": 3,
   "id": "5cf20212",
   "metadata": {},
   "outputs": [
    {
     "name": "stdout",
     "output_type": "stream",
     "text": [
      "Answer:\n",
      "x = -1.0000\n"
     ]
    }
   ],
   "source": [
    "\n",
    "# Example usage\n",
    "quad_solver(1, 2, 1)"
   ]
  },
  {
   "cell_type": "code",
   "execution_count": null,
   "id": "8500e44f",
   "metadata": {},
   "outputs": [],
   "source": []
  }
 ],
 "metadata": {
  "kernelspec": {
   "display_name": "Python 3 (ipykernel)",
   "language": "python",
   "name": "python3"
  },
  "language_info": {
   "codemirror_mode": {
    "name": "ipython",
    "version": 3
   },
   "file_extension": ".py",
   "mimetype": "text/x-python",
   "name": "python",
   "nbconvert_exporter": "python",
   "pygments_lexer": "ipython3",
   "version": "3.11.5"
  }
 },
 "nbformat": 4,
 "nbformat_minor": 5
}
