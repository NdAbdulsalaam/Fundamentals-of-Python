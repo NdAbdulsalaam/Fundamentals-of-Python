{
 "cells": [
  {
   "cell_type": "markdown",
   "id": "2ab1e996",
   "metadata": {},
   "source": [
    "## Introduction to python for data analysis 2"
   ]
  },
  {
   "cell_type": "markdown",
   "id": "c82bf6fd",
   "metadata": {},
   "source": [
    "# Python for Data Science: Collections and Data Structures\n",
    "\n",
    "## Introduction\n",
    "\n",
    "In Python, there are several built-in data structures used to store collections of data. These include lists, sets, tuples, and dictionaries. Additionally, in data science, we often use arrays and data frames provided by libraries such as NumPy and pandas. This section will cover their characteristics, uses, and some basic operations.\n"
   ]
  },
  {
   "cell_type": "markdown",
   "id": "d3740b4b",
   "metadata": {},
   "source": [
    "## 1. List (list)\n",
    "\n",
    "### Characteristics\n",
    "- Ordered collection of items\n",
    "- Mutable (can be changed after creation)\n",
    "- Allows duplicate elements\n",
    "- Elements can be of different data types\n",
    "\n",
    "### Uses\n",
    "- Storing a sequence of items\n",
    "- Common operations: indexing, slicing, appending, and iterating"
   ]
  },
  {
   "cell_type": "code",
   "execution_count": 2,
   "id": "3cfb8912",
   "metadata": {},
   "outputs": [
    {
     "name": "stdout",
     "output_type": "stream",
     "text": [
      "['apple', 'banana', 'cherry', 'orange']\n",
      "banana\n"
     ]
    }
   ],
   "source": [
    "# Example of list\n",
    "fruits = [\"apple\", \"banana\", \"cherry\"]\n",
    "fruits.append(\"orange\")  # Adding an item\n",
    "print(fruits)            # Output: ['apple', 'banana', 'cherry', 'orange']\n",
    "print(fruits[1])         # Output: banana"
   ]
  },
  {
   "cell_type": "markdown",
   "id": "3d3c4a24",
   "metadata": {},
   "source": [
    "## 2. Set (set)\n",
    "### Characteristics\n",
    "- Unordered collection of unique items\n",
    "- Mutable\n",
    "- Does not allow duplicate elements\n",
    "\n",
    "### Uses\n",
    "- Storing unique items\n",
    "- Common operations: union, intersection, difference"
   ]
  },
  {
   "cell_type": "code",
   "execution_count": 36,
   "id": "d6becb23",
   "metadata": {},
   "outputs": [
    {
     "name": "stdout",
     "output_type": "stream",
     "text": [
      "{1, 2, 3, 4, 5, 7}\n"
     ]
    }
   ],
   "source": [
    "# Example of set\n",
    "numbers = {1, 2, 3, 4, 5}\n",
    "numbers.add(7)          # Adding an existing item (no effect)\n",
    "print(numbers)          # Output: {1, 2, 3, 4, 5}\n"
   ]
  },
  {
   "cell_type": "code",
   "execution_count": 34,
   "id": "9c46b720",
   "metadata": {},
   "outputs": [
    {
     "data": {
      "text/plain": [
       "{1, 2, 3, 4, 5, 6}"
      ]
     },
     "execution_count": 34,
     "metadata": {},
     "output_type": "execute_result"
    }
   ],
   "source": [
    "numbers.add(6)\n",
    "numbers."
   ]
  },
  {
   "cell_type": "markdown",
   "id": "a96c584a",
   "metadata": {},
   "source": [
    "## 3. Tuple (tuple)\n",
    "### Characteristics\n",
    "- Ordered collection of items\n",
    "- Immutable (cannot be changed after creation)\n",
    "- Allows duplicate elements\n",
    "- Elements can be of different data types\n",
    "\n",
    "### Uses\n",
    "- Storing a fixed sequence of items\n",
    "- Common operations: indexing, slicing"
   ]
  },
  {
   "cell_type": "code",
   "execution_count": 5,
   "id": "c055b04c",
   "metadata": {},
   "outputs": [
    {
     "name": "stdout",
     "output_type": "stream",
     "text": [
      "10.0\n"
     ]
    }
   ],
   "source": [
    "# Example of tuple\n",
    "coordinates = (10.0, 20.0)\n",
    "print(coordinates[0])   # Output: 10.0\n"
   ]
  },
  {
   "cell_type": "markdown",
   "id": "dd6d0ee7",
   "metadata": {},
   "source": [
    "## 4. Dictionary (dict)\n",
    "### Characteristics\n",
    "- Unordered collection of key-value pairs\n",
    "- Keys must be unique and immutable\n",
    "- Values can be of any data type\n",
    "- Mutable\n",
    "\n",
    "### Uses\n",
    "- Storing data pairs (e.g., mapping names to values)\n",
    "- Common operations: accessing, adding, and removing key-value pairs"
   ]
  },
  {
   "cell_type": "code",
   "execution_count": 39,
   "id": "9b7d6ed5",
   "metadata": {},
   "outputs": [],
   "source": [
    "list = [\"name\", \"nurudeen\"]\n",
    "set = {\"name\", \"nurudeen\"}\n",
    "dict = {\"name\": \"Nurudeen\"}"
   ]
  },
  {
   "cell_type": "code",
   "execution_count": 42,
   "id": "69006513",
   "metadata": {},
   "outputs": [
    {
     "data": {
      "text/plain": [
       "'nurudeen'"
      ]
     },
     "execution_count": 42,
     "metadata": {},
     "output_type": "execute_result"
    }
   ],
   "source": [
    "list[1]"
   ]
  },
  {
   "cell_type": "code",
   "execution_count": 13,
   "id": "9e403d82",
   "metadata": {},
   "outputs": [
    {
     "name": "stdout",
     "output_type": "stream",
     "text": [
      "Alice\n"
     ]
    }
   ],
   "source": [
    "# Example of dictionary\n",
    "student = {\"name\": \"Alice\", \"age\": 25, \"is_student\": True}\n",
    "student[\"age\"] = 26      # Updating a value\n",
    "print(student[\"name\"])   # Output: Alice\n"
   ]
  },
  {
   "cell_type": "markdown",
   "id": "9edf0063",
   "metadata": {},
   "source": [
    "## 5. Array (array from NumPy)\n",
    "### Characteristics\n",
    "- Ordered collection of items\n",
    "- Elements are of the same data type\n",
    "- Mutable\n",
    "- More efficient than lists for numerical operations\n",
    "\n",
    "### Uses\n",
    "- Numerical computations\n",
    "- Common operations: element-wise operations, slicing, mathematical functions"
   ]
  },
  {
   "cell_type": "code",
   "execution_count": 62,
   "id": "8ce97b32",
   "metadata": {},
   "outputs": [
    {
     "name": "stdout",
     "output_type": "stream",
     "text": [
      "[[3 4 5]\n",
      " [6 7 8]]\n"
     ]
    }
   ],
   "source": [
    "import numpy as np\n",
    "\n",
    "# Example of array\n",
    "arr = np.array([[1, 2, 3], [4, 5, 6]])\n",
    "print(arr + 2)           # Output: [3 4 5 6 7]\n",
    "# print(arr * 3)           # Output: [ 3  6  9 12 15]\n"
   ]
  },
  {
   "cell_type": "code",
   "execution_count": 56,
   "id": "47fa8a68",
   "metadata": {},
   "outputs": [
    {
     "data": {
      "text/plain": [
       "array([[1, 2, 3],\n",
       "       [4, 5, 6]])"
      ]
     },
     "execution_count": 56,
     "metadata": {},
     "output_type": "execute_result"
    }
   ],
   "source": [
    "arr"
   ]
  },
  {
   "cell_type": "code",
   "execution_count": 59,
   "id": "dcda802b",
   "metadata": {},
   "outputs": [
    {
     "data": {
      "text/plain": [
       "6"
      ]
     },
     "execution_count": 59,
     "metadata": {},
     "output_type": "execute_result"
    }
   ],
   "source": [
    "arr[1][2]\n"
   ]
  },
  {
   "cell_type": "markdown",
   "id": "f89e51ad",
   "metadata": {},
   "source": [
    "## 6. Data Frame (DataFrame from pandas)\n",
    "### Characteristics\n",
    "- 2-dimensional, size-mutable, and heterogeneous tabular data\n",
    "- Labeled axes (rows and columns)\n",
    "- Mutable\n",
    "- Allows missing data\n",
    "\n",
    "# Uses\n",
    "- Data manipulation and analysis\n",
    "- Common operations: indexing, filtering, aggregating, merging"
   ]
  },
  {
   "cell_type": "code",
   "execution_count": 66,
   "id": "3dfc1cc4",
   "metadata": {},
   "outputs": [
    {
     "data": {
      "text/html": [
       "<div>\n",
       "<style scoped>\n",
       "    .dataframe tbody tr th:only-of-type {\n",
       "        vertical-align: middle;\n",
       "    }\n",
       "\n",
       "    .dataframe tbody tr th {\n",
       "        vertical-align: top;\n",
       "    }\n",
       "\n",
       "    .dataframe thead th {\n",
       "        text-align: right;\n",
       "    }\n",
       "</style>\n",
       "<table border=\"1\" class=\"dataframe\">\n",
       "  <thead>\n",
       "    <tr style=\"text-align: right;\">\n",
       "      <th></th>\n",
       "      <th>Name</th>\n",
       "      <th>Age</th>\n",
       "      <th>Occupation</th>\n",
       "    </tr>\n",
       "  </thead>\n",
       "  <tbody>\n",
       "    <tr>\n",
       "      <th>0</th>\n",
       "      <td>Alice</td>\n",
       "      <td>25</td>\n",
       "      <td>Engineer</td>\n",
       "    </tr>\n",
       "    <tr>\n",
       "      <th>1</th>\n",
       "      <td>Bob</td>\n",
       "      <td>30</td>\n",
       "      <td>Doctor</td>\n",
       "    </tr>\n",
       "    <tr>\n",
       "      <th>2</th>\n",
       "      <td>Charlie</td>\n",
       "      <td>35</td>\n",
       "      <td>Artist</td>\n",
       "    </tr>\n",
       "    <tr>\n",
       "      <th>3</th>\n",
       "      <td>Olaide</td>\n",
       "      <td>60</td>\n",
       "      <td>Pharmacist</td>\n",
       "    </tr>\n",
       "  </tbody>\n",
       "</table>\n",
       "</div>"
      ],
      "text/plain": [
       "      Name  Age  Occupation\n",
       "0    Alice   25    Engineer\n",
       "1      Bob   30      Doctor\n",
       "2  Charlie   35      Artist\n",
       "3   Olaide   60  Pharmacist"
      ]
     },
     "execution_count": 66,
     "metadata": {},
     "output_type": "execute_result"
    }
   ],
   "source": [
    "import pandas as pd\n",
    "\n",
    "# Example of DataFrame\n",
    "data = {\n",
    "    \"Name\": [\"Alice\", \"Bob\", \"Charlie\", \"Olaide\"],\n",
    "    \"Age\": [25, 30, 35, 60],\n",
    "    \"Occupation\": [\"Engineer\", \"Doctor\", \"Artist\", \"Pharmacist\"]\n",
    "}\n",
    "\n",
    "df = pd.DataFrame(data)\n",
    "df\n",
    "# Output:\n",
    "#       Name  Age Occupation\n",
    "# 0    Alice   25   Engineer\n",
    "# 1      Bob   30     Doctor\n",
    "# 2  Charlie   35     Artist\n"
   ]
  },
  {
   "cell_type": "markdown",
   "id": "f16992c9",
   "metadata": {},
   "source": [
    "## Summary\n",
    "Understanding these data structures and their uses is essential for effective data manipulation and analysis in Python. Each data structure has its own strengths and is suited for different types of tasks:\n",
    "\n",
    "- *Lists* are versatile and easy to use for ordered collections.\n",
    "- *Sets* are useful for storing unique items and performing set operations.\n",
    "- *Tuples* are great for storing fixed sequences of items.\n",
    "- *Dictionaries* are excellent for key-value mappings.\n",
    "- *Arrays* (from NumPy) are efficient for numerical computations.\n",
    "- *Data Frames* (from pandas) are powerful for handling and analyzing"
   ]
  }
 ],
 "metadata": {
  "kernelspec": {
   "display_name": "Python 3 (ipykernel)",
   "language": "python",
   "name": "python3"
  },
  "language_info": {
   "codemirror_mode": {
    "name": "ipython",
    "version": 3
   },
   "file_extension": ".py",
   "mimetype": "text/x-python",
   "name": "python",
   "nbconvert_exporter": "python",
   "pygments_lexer": "ipython3",
   "version": "3.11.5"
  }
 },
 "nbformat": 4,
 "nbformat_minor": 5
}
