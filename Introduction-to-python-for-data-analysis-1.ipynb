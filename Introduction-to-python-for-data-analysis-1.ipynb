{
 "cells": [
  {
   "cell_type": "markdown",
   "id": "c9bcec8c",
   "metadata": {},
   "source": [
    "# Python for Data Science: Data Types\n",
    "\n",
    "## Introduction\n",
    "\n",
    "In this section, we will explore the various data types in Python. Understanding data types is crucial because they define the operations that can be performed on the data and the way Python stores the data in memory.\n",
    "\n",
    "## Core Data Types\n"
   ]
  },
  {
   "cell_type": "markdown",
   "id": "fb59c5d1",
   "metadata": {},
   "source": [
    "### 1. Integer (int)\n",
    "Integers are whole numbers, positive or negative, without decimals."
   ]
  },
  {
   "cell_type": "code",
   "execution_count": 5,
   "id": "a78a25a8",
   "metadata": {},
   "outputs": [],
   "source": [
    "# Example of integer\n",
    "x = 10\n",
    "y = -5"
   ]
  },
  {
   "cell_type": "markdown",
   "id": "ea8aec04",
   "metadata": {},
   "source": [
    "### 2. Floating Point (float)\n",
    "Floating point numbers are numbers with a decimal point."
   ]
  },
  {
   "cell_type": "code",
   "execution_count": 6,
   "id": "beebc5cc",
   "metadata": {},
   "outputs": [],
   "source": [
    "# Example of float\n",
    "a = 10.5\n",
    "b = -3.14"
   ]
  },
  {
   "cell_type": "markdown",
   "id": "b8198621",
   "metadata": {},
   "source": [
    "### 3. String (str)\n",
    "Strings are sequences of characters enclosed in quotes."
   ]
  },
  {
   "cell_type": "code",
   "execution_count": 8,
   "id": "04f21c38",
   "metadata": {},
   "outputs": [],
   "source": [
    "# Example of string\n",
    "greeting = \"Hello, World!\"\n",
    "name = 'Alice'"
   ]
  },
  {
   "cell_type": "markdown",
   "id": "4f2040fa",
   "metadata": {},
   "source": [
    "### 4. Boolean (bool)\n",
    "Booleans represent one of two values: True or False."
   ]
  },
  {
   "cell_type": "code",
   "execution_count": 9,
   "id": "0d663aca",
   "metadata": {},
   "outputs": [],
   "source": [
    "# Example of boolean\n",
    "is_student = True\n",
    "has_passed = False"
   ]
  },
  {
   "cell_type": "markdown",
   "id": "e48b8a37",
   "metadata": {},
   "source": [
    "### 5. List (list)\n",
    "Lists are ordered, mutable collections of items. They can contain elements of different data types."
   ]
  },
  {
   "cell_type": "code",
   "execution_count": 10,
   "id": "e0808c0c",
   "metadata": {},
   "outputs": [],
   "source": [
    "# Example of list\n",
    "numbers = [1, 2, 3, 4, 5]\n",
    "mixed = [1, \"Hello\", 3.14, True]"
   ]
  },
  {
   "cell_type": "markdown",
   "id": "04e9fbbe",
   "metadata": {},
   "source": [
    "### 6. Tuple (tuple)\n",
    "Tuples are ordered, immutable collections of items. Like lists, they can contain elements of different data types."
   ]
  },
  {
   "cell_type": "code",
   "execution_count": 11,
   "id": "b07653a0",
   "metadata": {},
   "outputs": [],
   "source": [
    "# Example of tuple\n",
    "coordinates = (10.0, 20.0)\n"
   ]
  },
  {
   "cell_type": "markdown",
   "id": "bafe571c",
   "metadata": {},
   "source": [
    "### 7. Dictionary (dict)\n",
    "Dictionaries are unordered, mutable collections of key-value pairs."
   ]
  },
  {
   "cell_type": "code",
   "execution_count": 12,
   "id": "1d9bc93d",
   "metadata": {},
   "outputs": [],
   "source": [
    "# Example of dictionary\n",
    "student = {\"name\": \"Alice\", \"age\": 25, \"is_student\": True}\n"
   ]
  },
  {
   "cell_type": "markdown",
   "id": "97411a04",
   "metadata": {},
   "source": [
    "### 8. Set (set)\n",
    "Sets are unordered collections of unique items."
   ]
  },
  {
   "cell_type": "code",
   "execution_count": 13,
   "id": "67f9e674",
   "metadata": {},
   "outputs": [],
   "source": [
    "# Example of set\n",
    "unique_numbers = {1, 2, 3, 4, 5}"
   ]
  },
  {
   "cell_type": "markdown",
   "id": "72b6551b",
   "metadata": {},
   "source": [
    "## Data Type Conversion\n",
    "- Sometimes, it is necessary to convert data from one type to another. This is known as type casting."
   ]
  },
  {
   "cell_type": "code",
   "execution_count": 14,
   "id": "b6e425d1",
   "metadata": {},
   "outputs": [
    {
     "name": "stdout",
     "output_type": "stream",
     "text": [
      "<class 'int'>\n",
      "<class 'float'>\n",
      "<class 'str'>\n"
     ]
    }
   ],
   "source": [
    "# Example of type casting\n",
    "x = 10       # int\n",
    "y = float(x) # converting int to float\n",
    "z = str(x)   # converting int to string\n",
    "\n",
    "# Check the types\n",
    "print(type(x)) # Output: <class 'int'>\n",
    "print(type(y)) # Output: <class 'float'>\n",
    "print(type(z)) # Output: <class 'str'>\n"
   ]
  },
  {
   "cell_type": "markdown",
   "id": "86731835",
   "metadata": {},
   "source": [
    "## Summary\n",
    "Understanding Python's data types is fundamental to effective programming. They help in storing and manipulating data efficiently. Here, we've covered integers, floats, strings, booleans, lists, tuples, dictionaries, and sets. As we progress, we will see how these data types can be utilized in data science tasks, including data analysis, manipulation, and visualization."
   ]
  },
  {
   "cell_type": "markdown",
   "id": "ffde05a3",
   "metadata": {},
   "source": [
    " *Feel free to experiment with these data types and practice type conversions to get a solid grasp of how they work!*"
   ]
  },
  {
   "cell_type": "code",
   "execution_count": null,
   "id": "8672c56b",
   "metadata": {},
   "outputs": [],
   "source": []
  }
 ],
 "metadata": {
  "kernelspec": {
   "display_name": "Python 3 (ipykernel)",
   "language": "python",
   "name": "python3"
  },
  "language_info": {
   "codemirror_mode": {
    "name": "ipython",
    "version": 3
   },
   "file_extension": ".py",
   "mimetype": "text/x-python",
   "name": "python",
   "nbconvert_exporter": "python",
   "pygments_lexer": "ipython3",
   "version": "3.9.7"
  }
 },
 "nbformat": 4,
 "nbformat_minor": 5
}
